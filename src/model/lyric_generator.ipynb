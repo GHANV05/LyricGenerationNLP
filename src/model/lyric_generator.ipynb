{
 "cells": [
  {
   "cell_type": "code",
   "execution_count": 1,
   "id": "b7644804-9b0e-405d-bbf4-c9b96849af18",
   "metadata": {},
   "outputs": [],
   "source": [
    "# Import the model code and all the libraries bcs they are so annoying otherwise\n",
    "from LSTM import LyricsTokenizer, LyricsGenreDataset, LSTMLyrics_by_Genre, collate_fn, generate_lyrics, train_model\n",
    "import torch\n",
    "import torch.nn as nn\n",
    "import torch.nn.functional as F\n",
    "import random\n",
    "import nltk\n",
    "from nltk.tokenize import word_tokenize\n",
    "from collections import Counter\n",
    "from torch.utils.data import Dataset\n",
    "from torch.utils.data import DataLoader\n",
    "from tqdm import trange\n",
    "import string"
   ]
  },
  {
   "cell_type": "code",
   "execution_count": 2,
   "id": "c7dc203d-4cf6-467e-9e39-12470e2ff4c6",
   "metadata": {},
   "outputs": [
    {
     "name": "stdout",
     "output_type": "stream",
     "text": [
      "Missed 6119 out of 985307 words -- 0.62%\n"
     ]
    }
   ],
   "source": [
    "import re\n",
    "import os\n",
    "\n",
    "id_pattern = re.compile(r'^[a-zA-Z0-9]{22},')\n",
    "\n",
    "current_song_lyrics = []\n",
    "first_id = False\n",
    "first_line = True\n",
    "\n",
    "all_songs = []\n",
    "all_genres = []\n",
    "\n",
    "folder_path = 'C:/Users/Chloe/Documents/Spring 2025/CSCI3832_FinalProject-main/LSTM_data'\n",
    "\n",
    "for filename in os.listdir(folder_path):\n",
    "    file_path = os.path.join(folder_path, filename)\n",
    "    genre = re.sub(r'\\d+', '', os.path.splitext(filename)[0])\n",
    "    with open(file_path, 'r', encoding='utf-8') as file:\n",
    "        for line in file:\n",
    "            if first_line == True:\n",
    "                first_line = False\n",
    "                continue\n",
    "            else:\n",
    "                if id_pattern.match(line):\n",
    "                    if first_id == False:\n",
    "                        first_id = True\n",
    "                    else:\n",
    "                        lyrics_in_song = ''.join(current_song_lyrics).strip()\n",
    "                        if len(lyrics_in_song) >= 10:\n",
    "                            all_songs.append(lyrics_in_song)\n",
    "                            all_genres.append(genre) \n",
    "                        current_song_lyrics = []\n",
    "                else:\n",
    "                    current_song_lyrics.append(line)  \n",
    "\n",
    "        if current_song_lyrics:\n",
    "            lyrics_in_song = ''.join(current_song_lyrics).strip()\n",
    "            if len(lyrics_in_song) >= 10:\n",
    "                all_songs.append(lyrics_in_song)   \n",
    "                all_genres.append(genre)  \n",
    "#remove punctuation\n",
    "all_songs = [song.translate(str.maketrans('', '', string.punctuation)) for song in all_songs]\n",
    "# #regular expression from geeks for geeks for removing non-eng char: https://www.geeksforgeeks.org/python-remove-non-english-characters-strings-from-list/\n",
    "# all_songs = list(filter(lambda ele: re.search(\"[a-zA-Z]+\", ele) is not None, all_songs))\n",
    "# Build tokenizer\n",
    "tokenizer = LyricsTokenizer(min_freq=1, max_length=100)#max length is 100 tokens for computing efficiency\n",
    "tokenizer.build_vocab(all_songs)\n",
    "tokenized_lyrics = tokenizer.tokenize(all_songs)\n",
    "\n",
    "# Genre -> index mapping\n",
    "genre2idx = {genre: idx for idx, genre in enumerate(sorted(set(all_genres)))}\n",
    "\n",
    "# Dataset + Dataloader\n",
    "dataset = LyricsGenreDataset(tokenized_lyrics, all_genres, genre2idx)"
   ]
  },
  {
   "cell_type": "code",
   "execution_count": 50,
   "id": "2c4659dd-9810-4241-bf47-04fa16393b35",
   "metadata": {},
   "outputs": [
    {
     "name": "stdout",
     "output_type": "stream",
     "text": [
      "fighter reasons all right thing no more but you turned on the same but i went to but i is you make you smile i you had the cage and i you didnt know what i believe in too much id even remember if you know you til that way of way that i and i go by the youre when i got down ive got tell me til that shrink but i i wasnt i on what you you stay i everything wont see you i you song on that we got ya has always speak for running feelin wait a each nights on home tonight through me maybe i i all so when i would you i by you own i you you can see you without the face i love myself my love i way when the disappear under it cant stop where it work ill be\n"
     ]
    }
   ],
   "source": [
    "# Re-create the model\n",
    "vocab_size = tokenizer.vocab_size()\n",
    "device = torch.device(\"cuda\" if torch.cuda.is_available() else \"cpu\")\n",
    "num_genres = len(genre2idx)\n",
    "\n",
    "\n",
    "model = LSTMLyrics_by_Genre(\n",
    "    vocab_size=vocab_size,\n",
    "    embed_dim=256,\n",
    "    hidden_size=256,\n",
    "    genre_embed_size=32,\n",
    "    num_layers=1,\n",
    "    bidirectional=False,\n",
    "    teacher_forcing_ratio=0.5,\n",
    "    num_genres=num_genres\n",
    ").to(device)\n",
    "\n",
    "# Load saved weights\n",
    "model.load_state_dict(torch.load('C:/Users/Chloe/Documents/Spring 2025/CSCI3832_FinalProject-main/src/model/LSTM_genre_no_punct.pth',weights_only=True))\n",
    "model.eval()  # Put it in eval mode if you're generating or evaluating\n",
    "\n",
    "lyrics = generate_lyrics(model, tokenizer, \"rock\", genre2idx=genre2idx, max_len=150, device=device)\n",
    "print(lyrics)"
   ]
  },
  {
   "cell_type": "code",
   "execution_count": null,
   "id": "8a74af17-0949-4c9c-8d55-381a36657842",
   "metadata": {},
   "outputs": [],
   "source": []
  }
 ],
 "metadata": {
  "kernelspec": {
   "display_name": "Python [conda env:base] *",
   "language": "python",
   "name": "conda-base-py"
  },
  "language_info": {
   "codemirror_mode": {
    "name": "ipython",
    "version": 3
   },
   "file_extension": ".py",
   "mimetype": "text/x-python",
   "name": "python",
   "nbconvert_exporter": "python",
   "pygments_lexer": "ipython3",
   "version": "3.12.7"
  }
 },
 "nbformat": 4,
 "nbformat_minor": 5
}
