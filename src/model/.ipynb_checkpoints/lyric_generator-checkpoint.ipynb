{
 "cells": [
  {
   "cell_type": "code",
   "execution_count": 1,
   "id": "b7644804-9b0e-405d-bbf4-c9b96849af18",
   "metadata": {},
<<<<<<< HEAD
   "outputs": [
    {
     "ename": "ModuleNotFoundError",
     "evalue": "No module named 'torch'",
     "output_type": "error",
     "traceback": [
      "\u001b[0;31m---------------------------------------------------------------------------\u001b[0m",
      "\u001b[0;31mModuleNotFoundError\u001b[0m                       Traceback (most recent call last)",
      "Cell \u001b[0;32mIn[1], line 2\u001b[0m\n\u001b[1;32m      1\u001b[0m \u001b[38;5;66;03m# Import the model code and all the libraries bcs they are so annoying otherwise\u001b[39;00m\n\u001b[0;32m----> 2\u001b[0m \u001b[38;5;28;01mfrom\u001b[39;00m \u001b[38;5;21;01mLSTM\u001b[39;00m \u001b[38;5;28;01mimport\u001b[39;00m LyricsTokenizer, LyricsGenreDataset, LSTMLyrics_by_Genre, collate_fn, generate_lyrics, train_model\n\u001b[1;32m      3\u001b[0m \u001b[38;5;28;01mimport\u001b[39;00m \u001b[38;5;21;01mtorch\u001b[39;00m\n\u001b[1;32m      4\u001b[0m \u001b[38;5;28;01mimport\u001b[39;00m \u001b[38;5;21;01mtorch\u001b[39;00m\u001b[38;5;21;01m.\u001b[39;00m\u001b[38;5;21;01mnn\u001b[39;00m \u001b[38;5;28;01mas\u001b[39;00m \u001b[38;5;21;01mnn\u001b[39;00m\n",
      "File \u001b[0;32m~/Spring_2025/CSCI3832/CSCI3832_FinalProject/src/model/LSTM.py:3\u001b[0m\n\u001b[1;32m      1\u001b[0m \u001b[38;5;66;03m# libraries\u001b[39;00m\n\u001b[1;32m      2\u001b[0m \u001b[38;5;66;03m#pytorch is used for implementing the model\u001b[39;00m\n\u001b[0;32m----> 3\u001b[0m \u001b[38;5;28;01mimport\u001b[39;00m \u001b[38;5;21;01mtorch\u001b[39;00m\n\u001b[1;32m      4\u001b[0m \u001b[38;5;28;01mimport\u001b[39;00m \u001b[38;5;21;01mtorch\u001b[39;00m\u001b[38;5;21;01m.\u001b[39;00m\u001b[38;5;21;01mnn\u001b[39;00m \u001b[38;5;28;01mas\u001b[39;00m \u001b[38;5;21;01mnn\u001b[39;00m\n\u001b[1;32m      5\u001b[0m \u001b[38;5;28;01mimport\u001b[39;00m \u001b[38;5;21;01mtorch\u001b[39;00m\u001b[38;5;21;01m.\u001b[39;00m\u001b[38;5;21;01mnn\u001b[39;00m\u001b[38;5;21;01m.\u001b[39;00m\u001b[38;5;21;01mfunctional\u001b[39;00m \u001b[38;5;28;01mas\u001b[39;00m \u001b[38;5;21;01mF\u001b[39;00m\n",
      "\u001b[0;31mModuleNotFoundError\u001b[0m: No module named 'torch'"
     ]
    }
   ],
=======
   "outputs": [],
>>>>>>> 9f3f57ae3fb57b04f303d12fa9b35cd1f7c7e035
   "source": [
    "# Import the model code and all the libraries bcs they are so annoying otherwise\n",
    "from LSTM import LyricsTokenizer, LyricsGenreDataset, LSTMLyrics_by_Genre, collate_fn, generate_lyrics, train_model\n",
    "import torch\n",
    "import torch.nn as nn\n",
    "import torch.nn.functional as F\n",
    "import random\n",
    "import nltk\n",
    "from nltk.tokenize import word_tokenize\n",
    "from collections import Counter\n",
    "from torch.utils.data import Dataset\n",
    "from torch.utils.data import DataLoader\n",
<<<<<<< HEAD
    "from tqdm import trange"
=======
    "from tqdm import trange\n",
    "import string"
>>>>>>> 9f3f57ae3fb57b04f303d12fa9b35cd1f7c7e035
   ]
  },
  {
   "cell_type": "code",
   "execution_count": 2,
<<<<<<< HEAD
   "id": "3c0e6657-6b06-4d28-8fbc-c05d55ae781c",
   "metadata": {},
   "outputs": [
    {
     "ename": "FileNotFoundError",
     "evalue": "[Errno 2] No such file or directory: 'C:/Users/Chloe/Documents/Spring 2025/CSCI3832_FinalProject-main/LSTM_data'",
     "output_type": "error",
     "traceback": [
      "\u001b[0;31m---------------------------------------------------------------------------\u001b[0m",
      "\u001b[0;31mFileNotFoundError\u001b[0m                         Traceback (most recent call last)",
      "Cell \u001b[0;32mIn[2], line 13\u001b[0m\n\u001b[1;32m     10\u001b[0m all_songs \u001b[38;5;241m=\u001b[39m []\n\u001b[1;32m     11\u001b[0m all_genres \u001b[38;5;241m=\u001b[39m []\n\u001b[0;32m---> 13\u001b[0m \u001b[38;5;28;01mfor\u001b[39;00m filename \u001b[38;5;129;01min\u001b[39;00m \u001b[43mos\u001b[49m\u001b[38;5;241;43m.\u001b[39;49m\u001b[43mlistdir\u001b[49m\u001b[43m(\u001b[49m\u001b[43mfolder_path\u001b[49m\u001b[43m)\u001b[49m:\n\u001b[1;32m     14\u001b[0m     file_path \u001b[38;5;241m=\u001b[39m os\u001b[38;5;241m.\u001b[39mpath\u001b[38;5;241m.\u001b[39mjoin(folder_path, filename)\n\u001b[1;32m     15\u001b[0m     genre \u001b[38;5;241m=\u001b[39m re\u001b[38;5;241m.\u001b[39msub(\u001b[38;5;124mr\u001b[39m\u001b[38;5;124m'\u001b[39m\u001b[38;5;124m\\\u001b[39m\u001b[38;5;124md+\u001b[39m\u001b[38;5;124m'\u001b[39m, \u001b[38;5;124m'\u001b[39m\u001b[38;5;124m'\u001b[39m, os\u001b[38;5;241m.\u001b[39mpath\u001b[38;5;241m.\u001b[39msplitext(filename)[\u001b[38;5;241m0\u001b[39m])\n",
      "\u001b[0;31mFileNotFoundError\u001b[0m: [Errno 2] No such file or directory: 'C:/Users/Chloe/Documents/Spring 2025/CSCI3832_FinalProject-main/LSTM_data'"
=======
   "id": "c7dc203d-4cf6-467e-9e39-12470e2ff4c6",
   "metadata": {},
   "outputs": [
    {
     "name": "stdout",
     "output_type": "stream",
     "text": [
      "Missed 6119 out of 985307 words -- 0.62%\n"
>>>>>>> 9f3f57ae3fb57b04f303d12fa9b35cd1f7c7e035
     ]
    }
   ],
   "source": [
<<<<<<< HEAD
    "#a few more library imports\n",
    "import re #regular expression operations\n",
    "import os #file and directory operations\n",
    "import string # for removing punctuation\n",
    "\n",
    "#regular expression to detect lines that start with 22-char song id and ,\n",
    "id_pattern = re.compile(r'^[a-zA-Z0-9]{22},')\n",
    "\n",
    "#initializations\n",
    "first_line = True   #flag for skipping header row\n",
    "folder_path = 'LSTM_data' #change this for your machine!!!!!!!!\n",
    "#lists for storing processed lyrics and genres\n",
    "all_songs = []\n",
    "all_genres = []\n",
    "\n",
    "#iterate over each file\n",
    "for filename in os.listdir(folder_path):\n",
    "    file_path = os.path.join(folder_path, filename)\n",
    "    #extract the genre from the filename, remove numbers and file extension\n",
    "    genre = re.sub(r'\\d+', '', os.path.splitext(filename)[0])\n",
    "\n",
    "    #open file and read contents\n",
    "    with open(file_path, 'r', encoding='utf-8') as file:\n",
    "        first_line = True #flag reset\n",
    "        current_song_lyrics = [] #store the current lyrics\n",
    "        \n",
    "        #process line by line\n",
    "        for line in file: \n",
    "            if first_line: #skip the header line\n",
    "                first_line = False \n",
    "                continue\n",
    "\n",
    "            if id_pattern.match(line):\n",
    "                if current_song_lyrics:\n",
    "                    #join all lyrics into a single string\n",
    "                    full_lyrics = ''.join(current_song_lyrics)\n",
    "                    #remove punctuation, keep newlines\n",
    "                    cleaned_lyrics = full_lyrics.translate(str.maketrans('', '', string.punctuation))\n",
    "                    #split the lyric string into tokens\n",
    "                    tokens = cleaned_lyrics.split()\n",
    "                    #add the first and last 100 words as seperate entries to double data set size while maintaining computable sequence length\n",
    "                    #filter out songs less than 10 tokens\n",
    "                    if len(tokens) >= 10:\n",
    "                        if len(tokens) >= 100:\n",
    "                            first_100 = ' '.join(tokens[:100])\n",
    "                            last_100 = ' '.join(tokens[-100:])\n",
    "                            all_songs.append(first_100)\n",
    "                            all_genres.append(genre)\n",
    "                            all_songs.append(last_100)\n",
    "                            all_genres.append(genre)\n",
    "                        else:\n",
    "                            all_songs.append(' '.join(tokens))\n",
    "                            all_genres.append(genre)\n",
    "\n",
    "                    current_song_lyrics = []  # reset for next song\n",
    "            else:\n",
    "                #continue collecting lyric lines for curr song (error handling)\n",
    "                current_song_lyrics.append(line)\n",
    "\n",
    "        # Process last song in file (error handling)\n",
    "        if current_song_lyrics:\n",
    "            full_lyrics = ''.join(current_song_lyrics)\n",
    "            cleaned_lyrics = full_lyrics.translate(str.maketrans('', '', string.punctuation))\n",
    "            tokens = cleaned_lyrics.split()\n",
    "            if len(tokens) >= 10:\n",
    "                if len(tokens) >= 100:\n",
    "                    first_100 = ' '.join(tokens[:100])\n",
    "                    last_100 = ' '.join(tokens[-100:])\n",
    "                    all_songs.append(first_100)\n",
    "                    all_genres.append(genre)\n",
    "                    all_songs.append(last_100)\n",
    "                    all_genres.append(genre)\n",
    "                else:\n",
    "                    all_songs.append(' '.join(tokens))\n",
    "                    all_genres.append(genre) \n"
   ]
  },
  {
   "cell_type": "code",
   "execution_count": null,
   "id": "46f82a02-d86a-4a9e-8780-5a45558ab7e0",
   "metadata": {},
   "outputs": [],
   "source": [
=======
    "import re\n",
    "import os\n",
    "\n",
    "id_pattern = re.compile(r'^[a-zA-Z0-9]{22},')\n",
    "\n",
    "current_song_lyrics = []\n",
    "first_id = False\n",
    "first_line = True\n",
    "\n",
    "all_songs = []\n",
    "all_genres = []\n",
    "\n",
    "folder_path = 'C:/Users/Chloe/Documents/Spring 2025/CSCI3832_FinalProject-main/LSTM_data'\n",
    "\n",
    "for filename in os.listdir(folder_path):\n",
    "    file_path = os.path.join(folder_path, filename)\n",
    "    genre = re.sub(r'\\d+', '', os.path.splitext(filename)[0])\n",
    "    with open(file_path, 'r', encoding='utf-8') as file:\n",
    "        for line in file:\n",
    "            if first_line == True:\n",
    "                first_line = False\n",
    "                continue\n",
    "            else:\n",
    "                if id_pattern.match(line):\n",
    "                    if first_id == False:\n",
    "                        first_id = True\n",
    "                    else:\n",
    "                        lyrics_in_song = ''.join(current_song_lyrics).strip()\n",
    "                        if len(lyrics_in_song) >= 10:\n",
    "                            all_songs.append(lyrics_in_song)\n",
    "                            all_genres.append(genre) \n",
    "                        current_song_lyrics = []\n",
    "                else:\n",
    "                    current_song_lyrics.append(line)  \n",
    "\n",
    "        if current_song_lyrics:\n",
    "            lyrics_in_song = ''.join(current_song_lyrics).strip()\n",
    "            if len(lyrics_in_song) >= 10:\n",
    "                all_songs.append(lyrics_in_song)   \n",
    "                all_genres.append(genre)  \n",
    "#remove punctuation\n",
    "all_songs = [song.translate(str.maketrans('', '', string.punctuation)) for song in all_songs]\n",
    "# #regular expression from geeks for geeks for removing non-eng char: https://www.geeksforgeeks.org/python-remove-non-english-characters-strings-from-list/\n",
    "# all_songs = list(filter(lambda ele: re.search(\"[a-zA-Z]+\", ele) is not None, all_songs))\n",
>>>>>>> 9f3f57ae3fb57b04f303d12fa9b35cd1f7c7e035
    "# Build tokenizer\n",
    "tokenizer = LyricsTokenizer(min_freq=1, max_length=100)#max length is 100 tokens for computing efficiency\n",
    "tokenizer.build_vocab(all_songs)\n",
    "tokenized_lyrics = tokenizer.tokenize(all_songs)\n",
    "\n",
    "# Genre -> index mapping\n",
    "genre2idx = {genre: idx for idx, genre in enumerate(sorted(set(all_genres)))}\n",
    "\n",
    "# Dataset + Dataloader\n",
    "dataset = LyricsGenreDataset(tokenized_lyrics, all_genres, genre2idx)"
   ]
  },
  {
   "cell_type": "code",
<<<<<<< HEAD
   "execution_count": null,
   "id": "2c4659dd-9810-4241-bf47-04fa16393b35",
   "metadata": {},
   "outputs": [],
=======
   "execution_count": 50,
   "id": "2c4659dd-9810-4241-bf47-04fa16393b35",
   "metadata": {},
   "outputs": [
    {
     "name": "stdout",
     "output_type": "stream",
     "text": [
      "fighter reasons all right thing no more but you turned on the same but i went to but i is you make you smile i you had the cage and i you didnt know what i believe in too much id even remember if you know you til that way of way that i and i go by the youre when i got down ive got tell me til that shrink but i i wasnt i on what you you stay i everything wont see you i you song on that we got ya has always speak for running feelin wait a each nights on home tonight through me maybe i i all so when i would you i by you own i you you can see you without the face i love myself my love i way when the disappear under it cant stop where it work ill be\n"
     ]
    }
   ],
>>>>>>> 9f3f57ae3fb57b04f303d12fa9b35cd1f7c7e035
   "source": [
    "# Re-create the model\n",
    "vocab_size = tokenizer.vocab_size()\n",
    "device = torch.device(\"cuda\" if torch.cuda.is_available() else \"cpu\")\n",
    "num_genres = len(genre2idx)\n",
    "\n",
    "\n",
    "model = LSTMLyrics_by_Genre(\n",
    "    vocab_size=vocab_size,\n",
    "    embed_dim=256,\n",
    "    hidden_size=256,\n",
    "    genre_embed_size=32,\n",
<<<<<<< HEAD
    "    num_layers=2,\n",
=======
    "    num_layers=1,\n",
>>>>>>> 9f3f57ae3fb57b04f303d12fa9b35cd1f7c7e035
    "    bidirectional=False,\n",
    "    teacher_forcing_ratio=0.5,\n",
    "    num_genres=num_genres\n",
    ").to(device)\n",
    "\n",
    "# Load saved weights\n",
<<<<<<< HEAD
    "model.load_state_dict(torch.load('LSTM_final.pth',weights_only=True)) #change this so you know where is saves\n",
    "model.eval()  # Put it in eval mode if you're generating or evaluating\n",
    "\n",
    "lyrics = generate_lyrics(model, tokenizer, \"rock\", genre2idx=genre2idx, max_len=50, device=device, temperature=1)\n",
=======
    "model.load_state_dict(torch.load('C:/Users/Chloe/Documents/Spring 2025/CSCI3832_FinalProject-main/src/model/LSTM_genre_no_punct.pth',weights_only=True))\n",
    "model.eval()  # Put it in eval mode if you're generating or evaluating\n",
    "\n",
    "lyrics = generate_lyrics(model, tokenizer, \"rock\", genre2idx=genre2idx, max_len=150, device=device)\n",
>>>>>>> 9f3f57ae3fb57b04f303d12fa9b35cd1f7c7e035
    "print(lyrics)"
   ]
  },
  {
   "cell_type": "code",
   "execution_count": null,
   "id": "8a74af17-0949-4c9c-8d55-381a36657842",
   "metadata": {},
   "outputs": [],
<<<<<<< HEAD
   "source": [
    "import csv\n",
    "filename = \"rb_generated.csv\"\n",
    "lyrics = []\n",
    "\n",
    "for i in range(100):\n",
    "    lyric = generate_lyrics(model, tokenizer, \"rb\", genre2idx=genre2idx, max_len=100, device=device)\n",
    "    if lyric.isascii():\n",
    "        lyrics.append(lyric)\n",
    "\n",
    "with open(filename, 'w', newline='') as file:\n",
    "    writer = csv.writer(file)\n",
    "    writer.writerows([[lyric] for lyric in lyrics])\n",
    "\n",
    "print(f'CSV file \"{filename}\" created successfully.')\n"
   ]
  },
  {
   "cell_type": "code",
   "execution_count": null,
   "id": "15e099f0-4872-4f97-b728-0c3c5c3b28c4",
   "metadata": {},
   "outputs": [],
=======
>>>>>>> 9f3f57ae3fb57b04f303d12fa9b35cd1f7c7e035
   "source": []
  }
 ],
 "metadata": {
  "kernelspec": {
<<<<<<< HEAD
   "display_name": "Python 3 (ipykernel)",
   "language": "python",
   "name": "python3"
=======
   "display_name": "Python [conda env:base] *",
   "language": "python",
   "name": "conda-base-py"
>>>>>>> 9f3f57ae3fb57b04f303d12fa9b35cd1f7c7e035
  },
  "language_info": {
   "codemirror_mode": {
    "name": "ipython",
    "version": 3
   },
   "file_extension": ".py",
   "mimetype": "text/x-python",
   "name": "python",
   "nbconvert_exporter": "python",
   "pygments_lexer": "ipython3",
<<<<<<< HEAD
   "version": "3.10.8"
=======
   "version": "3.12.7"
>>>>>>> 9f3f57ae3fb57b04f303d12fa9b35cd1f7c7e035
  }
 },
 "nbformat": 4,
 "nbformat_minor": 5
}
