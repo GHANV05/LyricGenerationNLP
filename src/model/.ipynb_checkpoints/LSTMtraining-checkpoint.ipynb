{
 "cells": [
  {
   "cell_type": "code",
   "execution_count": 1,
   "metadata": {},
   "outputs": [],
   "source": [
<<<<<<< HEAD
    "# Import the model code and all the libraries\n",
=======
    "# Import the model code and all the libraries bcs they are so annoying otherwise\n",
>>>>>>> 9f3f57ae3fb57b04f303d12fa9b35cd1f7c7e035
    "from LSTM import LyricsTokenizer, LyricsGenreDataset, LSTMLyrics_by_Genre, collate_fn, generate_lyrics, train_model\n",
    "import torch\n",
    "import torch.nn as nn\n",
    "import torch.nn.functional as F\n",
    "import random\n",
    "import nltk\n",
    "from nltk.tokenize import word_tokenize\n",
    "from collections import Counter\n",
    "from torch.utils.data import Dataset\n",
    "from torch.utils.data import DataLoader\n",
<<<<<<< HEAD
    "from tqdm import trange"
   ]
  },
  {
   "cell_type": "markdown",
   "metadata": {},
   "source": [
    "The first step in training the model is to get the data, the block below achieves this. Because the data set was not very large, this function appends the first 100 and last 100 tokens of each song as seperate samples, effectively doubling the dataset. We take this approach because the the model takes too long to train the model with inputs greater than 100 tokens. Unfortunately, this does mean that the model is more of a \"single verse\" generator, but, because the dataset is small, the model would likely not be good at generating full songs anyway so this is the best approach for the situation. \n",
    "\n",
    "The code itself is an altered version of clean_data.py (the data cleaner for BERT) and was altered for the purposes of this model. "
=======
    "from tqdm import trange\n",
    "import string"
>>>>>>> 9f3f57ae3fb57b04f303d12fa9b35cd1f7c7e035
   ]
  },
  {
   "cell_type": "code",
<<<<<<< HEAD
   "execution_count": 3,
   "metadata": {},
   "outputs": [],
   "source": [
    "#a few more library imports\n",
    "import re #regular expression operations\n",
    "import os #file and directory operations\n",
    "import string # for removing punctuation\n",
    "\n",
    "#regular expression to detect lines that start with 22-char song id and ,\n",
    "id_pattern = re.compile(r'^[a-zA-Z0-9]{22},')\n",
    "\n",
    "#initializations\n",
    "first_line = True   #flag for skipping header row\n",
    "folder_path = 'C:/Users/Chloe/Documents/Spring 2025/CSCI3832_FinalProject-main/LSTM_data'\n",
    "#lists for storing processed lyrics and genres\n",
    "all_songs = []\n",
    "all_genres = []\n",
    "\n",
    "#iterate over each file\n",
    "for filename in os.listdir(folder_path):\n",
    "    file_path = os.path.join(folder_path, filename)\n",
    "    #extract the genre from the filename, remove numbers and file extension\n",
    "    genre = re.sub(r'\\d+', '', os.path.splitext(filename)[0])\n",
    "\n",
    "    #open file and read contents\n",
    "    with open(file_path, 'r', encoding='utf-8') as file:\n",
    "        first_line = True #flag reset\n",
    "        current_song_lyrics = [] #store the current lyrics\n",
    "        \n",
    "        #process line by line\n",
    "        for line in file: \n",
    "            if first_line: #skip the header line\n",
    "                first_line = False \n",
    "                continue\n",
    "\n",
    "            if id_pattern.match(line):\n",
    "                if current_song_lyrics:\n",
    "                    #join all lyrics into a single string\n",
    "                    full_lyrics = ''.join(current_song_lyrics)\n",
    "                    #remove punctuation, keep newlines\n",
    "                    cleaned_lyrics = full_lyrics.translate(str.maketrans('', '', string.punctuation))\n",
    "                    #split the lyric string into tokens\n",
    "                    tokens = cleaned_lyrics.split()\n",
    "                    #add the first and last 100 words as seperate entries to double data set size while maintaining computable sequence length\n",
    "                    #filter out songs less than 10 tokens\n",
    "                    if len(tokens) >= 10:\n",
    "                        if len(tokens) >= 100:\n",
    "                            first_100 = ' '.join(tokens[:100])\n",
    "                            last_100 = ' '.join(tokens[-100:])\n",
    "                            all_songs.append(first_100)\n",
    "                            all_genres.append(genre)\n",
    "                            all_songs.append(last_100)\n",
    "                            all_genres.append(genre)\n",
    "                        else:\n",
    "                            all_songs.append(' '.join(tokens))\n",
    "                            all_genres.append(genre)\n",
    "\n",
    "                    current_song_lyrics = []  # reset for next song\n",
    "            else:\n",
    "                #continue collecting lyric lines for curr song (error handling)\n",
    "                current_song_lyrics.append(line)\n",
    "\n",
    "        # Process last song in file (error handling)\n",
    "        if current_song_lyrics:\n",
    "            full_lyrics = ''.join(current_song_lyrics)\n",
    "            cleaned_lyrics = full_lyrics.translate(str.maketrans('', '', string.punctuation))\n",
    "            tokens = cleaned_lyrics.split()\n",
    "            if len(tokens) >= 10:\n",
    "                if len(tokens) >= 100:\n",
    "                    first_100 = ' '.join(tokens[:100])\n",
    "                    last_100 = ' '.join(tokens[-100:])\n",
    "                    all_songs.append(first_100)\n",
    "                    all_genres.append(genre)\n",
    "                    all_songs.append(last_100)\n",
    "                    all_genres.append(genre)\n",
    "                else:\n",
    "                    all_songs.append(' '.join(tokens))\n",
    "                    all_genres.append(genre) "
   ]
  },
  {
   "cell_type": "code",
   "execution_count": 5,
   "metadata": {},
   "outputs": [
    {
     "name": "stdout",
     "output_type": "stream",
     "text": [
      "\n",
      "--- Sanity Check ---\n",
      "Total songs: 9582\n",
      "Total genres: 5 → {'rb', 'country', 'hiphop', 'pop', 'rock'}\n",
      "\n",
      "Sample data:\n",
      "\n",
      "Genre: country\n",
      "Lyrics: We said Naw never again And we said wed be better as friends But come over and dont overthink it Tonight youre lucky Im drinkin Pick up a couple of lotto tickets throw a penny in a well Youre the luckiest man in Tennessee if you cant tell Cause me my phone and the neons buzzin Three four in and Im missin your lovin We said Naw never again Never again And we said wed be better as friends But come over and dont overthink it Tonight youre lucky Im drinkin Boy youre gettin lucky Tonight youre lucky Im drinkin\n",
      "\n",
      "Genre: rock\n",
      "Lyrics: Ooh this old heart of mine been broke a thousand times Each time you break away I fear youve gone to stay Lonely nights that come memories that flow Bringing you back again hurting me more and more Maybe its my mistake to show this love I feel inside Cause each day that passes by You got me never knowing if Im coming or going But I I love you This old heart darling is weak for you I love you yes I do Yes I do yes I do These old arms of mine miss having you around Makes\n",
      "\n",
      "Genre: rb\n",
      "Lyrics: Last I saw you were down on your knees Praying for some release Check my bed but you aint next to me And Im wondering where you ease Last until anyone lets you know But I dont understand this game Bit my lip but I said I would find Something I didnt know I had Almost winning and now I dont know But it seems like its almost away from me Maybe one day Ill be strong enough To find it out and Ill know it all And the spring is running far You got me thinking Oh I want\n"
     ]
    }
   ],
   "source": [
    "# chat gpt generated sanity check\n",
    "print(\"\\n--- Sanity Check ---\")\n",
    "\n",
    "# Check list lengths match\n",
    "assert len(all_songs) == len(all_genres), \"Mismatch between number of songs and genres!\"\n",
    "\n",
    "# Check non-empty songs and genres\n",
    "for i, (song, genre) in enumerate(zip(all_songs, all_genres)):\n",
    "    assert isinstance(song, str), f\"Song at index {i} is not a string\"\n",
    "    assert isinstance(genre, str), f\"Genre at index {i} is not a string\"\n",
    "    assert len(song.strip()) >= 10, f\"Song at index {i} is too short: '{song}'\"\n",
    "\n",
    "# Check genre diversity\n",
    "unique_genres = set(all_genres)\n",
    "print(f\"Total songs: {len(all_songs)}\")\n",
    "print(f\"Total genres: {len(unique_genres)} → {unique_genres}\")\n",
    "\n",
    "# Show sample entries\n",
    "print(\"\\nSample data:\")\n",
    "print(f\"\\nGenre: {all_genres[705]}\\nLyrics: {all_songs[705]}\")\n",
    "print(f\"\\nGenre: {all_genres[9000]}\\nLyrics: {all_songs[9000]}\")\n",
    "print(f\"\\nGenre: {all_genres[4052]}\\nLyrics: {all_songs[4052]}\")\n"
   ]
  },
  {
   "cell_type": "markdown",
   "metadata": {},
   "source": [
    "After gathering the data and doing a sanity check, we will tokenize the lyrics and genres and "
   ]
  },
  {
   "cell_type": "code",
   "execution_count": 7,
   "metadata": {},
   "outputs": [
    {
     "name": "stdout",
     "output_type": "stream",
     "text": [
      "Missed 2721 out of 964450 words -- 0.28%\n"
     ]
    }
   ],
   "source": [
=======
   "execution_count": 2,
   "metadata": {},
   "outputs": [
    {
     "name": "stdout",
     "output_type": "stream",
     "text": [
      "Missed 6119 out of 985307 words -- 0.62%\n"
     ]
    }
   ],
   "source": [
    "import re\n",
    "import os\n",
    "\n",
    "id_pattern = re.compile(r'^[a-zA-Z0-9]{22},')\n",
    "\n",
    "current_song_lyrics = []\n",
    "first_id = False\n",
    "first_line = True\n",
    "\n",
    "all_songs = []\n",
    "all_genres = []\n",
    "\n",
    "folder_path = 'C:/Users/Chloe/Documents/Spring 2025/CSCI3832_FinalProject-main/LSTM_data'\n",
    "\n",
    "for filename in os.listdir(folder_path):\n",
    "    file_path = os.path.join(folder_path, filename)\n",
    "    genre = re.sub(r'\\d+', '', os.path.splitext(filename)[0])\n",
    "    with open(file_path, 'r', encoding='utf-8') as file:\n",
    "        for line in file:\n",
    "            if first_line == True:\n",
    "                first_line = False\n",
    "                continue\n",
    "            else:\n",
    "                if id_pattern.match(line):\n",
    "                    if first_id == False:\n",
    "                        first_id = True\n",
    "                    else:\n",
    "                        lyrics_in_song = ''.join(current_song_lyrics).strip()\n",
    "                        if len(lyrics_in_song) >= 10:\n",
    "                            all_songs.append(lyrics_in_song)\n",
    "                            all_genres.append(genre) \n",
    "                        current_song_lyrics = []\n",
    "                else:\n",
    "                    current_song_lyrics.append(line)  \n",
    "\n",
    "        if current_song_lyrics:\n",
    "            lyrics_in_song = ''.join(current_song_lyrics).strip()\n",
    "            if len(lyrics_in_song) >= 10:\n",
    "                all_songs.append(lyrics_in_song)   \n",
    "                all_genres.append(genre)  \n",
    "#remove punctuation\n",
    "all_songs = [song.translate(str.maketrans('', '', string.punctuation)) for song in all_songs]\n",
    "# #regular expression from geeks for geeks for removing non-eng char: https://www.geeksforgeeks.org/python-remove-non-english-characters-strings-from-list/\n",
    "# all_songs = list(filter(lambda ele: re.search(\"[a-zA-Z]+\", ele) is not None, all_songs))\n",
>>>>>>> 9f3f57ae3fb57b04f303d12fa9b35cd1f7c7e035
    "# Build tokenizer\n",
    "tokenizer = LyricsTokenizer(min_freq=1, max_length=100)#max length is 100 tokens for computing efficiency\n",
    "tokenizer.build_vocab(all_songs)\n",
    "tokenized_lyrics = tokenizer.tokenize(all_songs)\n",
    "\n",
    "# Genre -> index mapping\n",
    "genre2idx = {genre: idx for idx, genre in enumerate(sorted(set(all_genres)))}\n",
    "\n",
    "# Dataset + Dataloader\n",
    "dataset = LyricsGenreDataset(tokenized_lyrics, all_genres, genre2idx)"
   ]
  },
  {
   "cell_type": "code",
<<<<<<< HEAD
   "execution_count": 9,
   "metadata": {},
   "outputs": [
    {
     "name": "stdout",
     "output_type": "stream",
     "text": [
      "9582\n",
      "3745\n",
      "3078\n",
      "878\n",
      "1135\n",
      "746\n"
     ]
    }
   ],
   "source": [
    "print(len(all_songs))\n",
    "print(all_genres.count(\"rock\"))\n",
    "print(all_genres.count(\"rb\"))\n",
    "print(all_genres.count(\"hiphop\"))\n",
    "print(all_genres.count(\"pop\"))\n",
    "print(all_genres.count(\"country\"))"
   ]
  },
  {
   "cell_type": "code",
   "execution_count": 11,
=======
   "execution_count": 3,
>>>>>>> 9f3f57ae3fb57b04f303d12fa9b35cd1f7c7e035
   "metadata": {
    "scrolled": true
   },
   "outputs": [
    {
     "name": "stdout",
     "output_type": "stream",
     "text": [
      "Epoch 1/10\n"
     ]
    },
    {
     "name": "stderr",
     "output_type": "stream",
     "text": [
      "                                                                                                                       \r"
     ]
    },
    {
     "name": "stdout",
     "output_type": "stream",
     "text": [
<<<<<<< HEAD
      "Epoch 1, Loss: 6.7506\n",
=======
      "Epoch 1, Loss: 6.7780\n",
>>>>>>> 9f3f57ae3fb57b04f303d12fa9b35cd1f7c7e035
      "Epoch 2/10\n"
     ]
    },
    {
     "name": "stderr",
     "output_type": "stream",
     "text": [
      "                                                                                                                       \r"
     ]
    },
    {
     "name": "stdout",
     "output_type": "stream",
     "text": [
<<<<<<< HEAD
      "Epoch 2, Loss: 6.3061\n",
=======
      "Epoch 2, Loss: 6.2911\n",
>>>>>>> 9f3f57ae3fb57b04f303d12fa9b35cd1f7c7e035
      "Epoch 3/10\n"
     ]
    },
    {
     "name": "stderr",
     "output_type": "stream",
     "text": [
      "                                                                                                                       \r"
     ]
    },
    {
     "name": "stdout",
     "output_type": "stream",
     "text": [
<<<<<<< HEAD
      "Epoch 3, Loss: 6.0607\n",
=======
      "Epoch 3, Loss: 6.0696\n",
>>>>>>> 9f3f57ae3fb57b04f303d12fa9b35cd1f7c7e035
      "Epoch 4/10\n"
     ]
    },
    {
     "name": "stderr",
     "output_type": "stream",
     "text": [
      "                                                                                                                       \r"
     ]
    },
    {
     "name": "stdout",
     "output_type": "stream",
     "text": [
<<<<<<< HEAD
      "Epoch 4, Loss: 5.9164\n",
=======
      "Epoch 4, Loss: 5.9167\n",
>>>>>>> 9f3f57ae3fb57b04f303d12fa9b35cd1f7c7e035
      "Epoch 5/10\n"
     ]
    },
    {
     "name": "stderr",
     "output_type": "stream",
     "text": [
      "                                                                                                                       \r"
     ]
    },
    {
     "name": "stdout",
     "output_type": "stream",
     "text": [
<<<<<<< HEAD
      "Epoch 5, Loss: 5.8075\n",
=======
      "Epoch 5, Loss: 5.8090\n",
>>>>>>> 9f3f57ae3fb57b04f303d12fa9b35cd1f7c7e035
      "Epoch 6/10\n"
     ]
    },
    {
     "name": "stderr",
     "output_type": "stream",
     "text": [
      "                                                                                                                       \r"
     ]
    },
    {
     "name": "stdout",
     "output_type": "stream",
     "text": [
<<<<<<< HEAD
      "Epoch 6, Loss: 5.7096\n",
=======
      "Epoch 6, Loss: 5.7187\n",
>>>>>>> 9f3f57ae3fb57b04f303d12fa9b35cd1f7c7e035
      "Epoch 7/10\n"
     ]
    },
    {
     "name": "stderr",
     "output_type": "stream",
     "text": [
      "                                                                                                                       \r"
     ]
    },
    {
     "name": "stdout",
     "output_type": "stream",
     "text": [
<<<<<<< HEAD
      "Epoch 7, Loss: 5.6265\n",
=======
      "Epoch 7, Loss: 5.6247\n",
>>>>>>> 9f3f57ae3fb57b04f303d12fa9b35cd1f7c7e035
      "Epoch 8/10\n"
     ]
    },
    {
     "name": "stderr",
     "output_type": "stream",
     "text": [
      "                                                                                                                       \r"
     ]
    },
    {
     "name": "stdout",
     "output_type": "stream",
     "text": [
<<<<<<< HEAD
      "Epoch 8, Loss: 5.5385\n",
=======
      "Epoch 8, Loss: 5.5589\n",
>>>>>>> 9f3f57ae3fb57b04f303d12fa9b35cd1f7c7e035
      "Epoch 9/10\n"
     ]
    },
    {
     "name": "stderr",
     "output_type": "stream",
     "text": [
      "                                                                                                                       \r"
     ]
    },
    {
     "name": "stdout",
     "output_type": "stream",
     "text": [
<<<<<<< HEAD
      "Epoch 9, Loss: 5.4669\n",
=======
      "Epoch 9, Loss: 5.4770\n",
>>>>>>> 9f3f57ae3fb57b04f303d12fa9b35cd1f7c7e035
      "Epoch 10/10\n"
     ]
    },
    {
     "name": "stderr",
     "output_type": "stream",
     "text": [
      "                                                                                                                       "
     ]
    },
    {
     "name": "stdout",
     "output_type": "stream",
     "text": [
<<<<<<< HEAD
      "Epoch 10, Loss: 5.3898\n"
=======
      "Epoch 10, Loss: 5.4021\n"
>>>>>>> 9f3f57ae3fb57b04f303d12fa9b35cd1f7c7e035
     ]
    },
    {
     "name": "stderr",
     "output_type": "stream",
     "text": [
      "\r"
     ]
    }
   ],
   "source": [
    "train_loader = DataLoader( #wrap the data set to only pass in what should be\n",
    "    dataset,\n",
    "    batch_size=16, #default choice lowk\n",
    "    shuffle=True, #shuffle data before each epoch\n",
    "    collate_fn=collate_fn\n",
    ")\n",
    "\n",
    "#device set up to avoid errors, not my area of expertise but seems necessary\n",
    "device = torch.device(\"cuda\" if torch.cuda.is_available() else \"cpu\")\n",
    "#gets unique words and special tokens\n",
    "vocab_size = tokenizer.vocab_size()\n",
    "#gets number of unique genres - i think theres like 28 yikes\n",
    "num_genres = len(genre2idx)\n",
    "\n",
    "model = LSTMLyrics_by_Genre(\n",
    "    vocab_size=vocab_size,\n",
    "    embed_dim=256,\n",
    "    hidden_size=256,\n",
    "    genre_embed_size=32,\n",
<<<<<<< HEAD
    "    num_layers=2,\n",
=======
    "    num_layers=1,\n",
>>>>>>> 9f3f57ae3fb57b04f303d12fa9b35cd1f7c7e035
    "    bidirectional=False,\n",
    "    teacher_forcing_ratio=0.5,\n",
    "    num_genres=num_genres\n",
    ").to(device)\n",
    "best_loss = float('inf')\n",
    "# Train using adam as the optimizer and a std loss function\n",
    "optimizer = torch.optim.Adam(model.parameters(), lr=1e-3)\n",
    "criterion = nn.CrossEntropyLoss()\n",
    "train_losses = [] #for future plotting\n",
    "num_epochs = 10 #10 full passes through the data set\n",
    "\n",
    "for epoch in range(num_epochs): #some sanity during training\n",
    "    print(f\"Epoch {epoch+1}/{num_epochs}\")\n",
    "    train_loss = train_model(model, train_loader, optimizer, criterion, device)\n",
    "    train_losses.append(train_loss) #for plotting\n",
    "    \n",
    "    print(f\"Epoch {epoch+1}, Loss: {train_loss:.4f}\")\n",
    "    #save the best model\n",
    "    if(train_loss < best_loss):\n",
    "        best_loss = train_loss\n",
<<<<<<< HEAD
    "        torch.save(model.state_dict(), \"LSTM_final.pth\")"
=======
    "        torch.save(model.state_dict(), \"LSTM_zero_init.pth\")"
>>>>>>> 9f3f57ae3fb57b04f303d12fa9b35cd1f7c7e035
   ]
  },
  {
   "cell_type": "code",
<<<<<<< HEAD
   "execution_count": 13,
   "metadata": {},
   "outputs": [
    {
     "data": {
      "image/png": "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",
=======
   "execution_count": 4,
   "metadata": {
    "scrolled": true
   },
   "outputs": [
    {
     "data": {
      "image/png": "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",
>>>>>>> 9f3f57ae3fb57b04f303d12fa9b35cd1f7c7e035
      "text/plain": [
       "<Figure size 640x480 with 1 Axes>"
      ]
     },
     "metadata": {},
     "output_type": "display_data"
    }
   ],
   "source": [
    "import matplotlib.pyplot as plt\n",
    "\n",
    "plt.plot(range(1, num_epochs + 1), train_losses, marker='o')\n",
    "plt.title(\"Training Loss per Epoch\")\n",
    "plt.xlabel(\"Epoch\")\n",
    "plt.ylabel(\"Loss\")\n",
    "plt.grid(True)\n",
    "plt.show()"
   ]
  },
  {
   "cell_type": "code",
   "execution_count": null,
   "metadata": {},
   "outputs": [],
   "source": []
  }
 ],
 "metadata": {
  "kernelspec": {
<<<<<<< HEAD
   "display_name": "Python 3 (ipykernel)",
   "language": "python",
   "name": "python3"
=======
   "display_name": "Python [conda env:base] *",
   "language": "python",
   "name": "conda-base-py"
>>>>>>> 9f3f57ae3fb57b04f303d12fa9b35cd1f7c7e035
  },
  "language_info": {
   "codemirror_mode": {
    "name": "ipython",
    "version": 3
   },
   "file_extension": ".py",
   "mimetype": "text/x-python",
   "name": "python",
   "nbconvert_exporter": "python",
   "pygments_lexer": "ipython3",
<<<<<<< HEAD
   "version": "3.10.8"
=======
   "version": "3.12.7"
>>>>>>> 9f3f57ae3fb57b04f303d12fa9b35cd1f7c7e035
  }
 },
 "nbformat": 4,
 "nbformat_minor": 4
}
