{
 "cells": [
  {
   "cell_type": "code",
   "execution_count": 1,
   "metadata": {},
   "outputs": [],
   "source": [
    "# Import the model code and all the libraries\n",
    "from LSTM import LyricsTokenizer, LyricsGenreDataset, LSTMLyrics_by_Genre, collate_fn, generate_lyrics, train_model\n",
    "import torch\n",
    "import torch.nn as nn\n",
    "import torch.nn.functional as F\n",
    "import random\n",
    "import nltk\n",
    "from nltk.tokenize import word_tokenize\n",
    "from collections import Counter\n",
    "from torch.utils.data import Dataset\n",
    "from torch.utils.data import DataLoader\n",
    "from tqdm import trange"
   ]
  },
  {
   "cell_type": "markdown",
   "metadata": {},
   "source": [
    "The first step in training the model is to get the data, the block below achieves this. Because the data set was not very large, this function appends the first 100 and last 100 tokens of each song as seperate samples, effectively doubling the dataset. We take this approach because the the model takes too long to train the model with inputs greater than 100 tokens. Unfortunately, this does mean that the model is more of a \"single verse\" generator, but, because the dataset is small, the model would likely not be good at generating full songs anyway so this is the best approach for the situation. \n",
    "\n",
    "The code itself is an altered version of clean_data.py (the data cleaner for BERT) and was altered for the purposes of this model. "
   ]
  },
  {
   "cell_type": "code",
   "execution_count": 3,
   "metadata": {},
   "outputs": [],
   "source": [
    "#a few more library imports\n",
    "import re #regular expression operations\n",
    "import os #file and directory operations\n",
    "import string # for removing punctuation\n",
    "\n",
    "#regular expression to detect lines that start with 22-char song id and ,\n",
    "id_pattern = re.compile(r'^[a-zA-Z0-9]{22},')\n",
    "\n",
    "#initializations\n",
    "first_line = True   #flag for skipping header row\n",
    "folder_path = 'C:/Users/Chloe/Documents/Spring 2025/CSCI3832_FinalProject-main/LSTM_data'\n",
    "#lists for storing processed lyrics and genres\n",
    "all_songs = []\n",
    "all_genres = []\n",
    "\n",
    "#iterate over each file\n",
    "for filename in os.listdir(folder_path):\n",
    "    file_path = os.path.join(folder_path, filename)\n",
    "    #extract the genre from the filename, remove numbers and file extension\n",
    "    genre = re.sub(r'\\d+', '', os.path.splitext(filename)[0])\n",
    "\n",
    "    #open file and read contents\n",
    "    with open(file_path, 'r', encoding='utf-8') as file:\n",
    "        first_line = True #flag reset\n",
    "        current_song_lyrics = [] #store the current lyrics\n",
    "        \n",
    "        #process line by line\n",
    "        for line in file: \n",
    "            if first_line: #skip the header line\n",
    "                first_line = False \n",
    "                continue\n",
    "\n",
    "            if id_pattern.match(line):\n",
    "                if current_song_lyrics:\n",
    "                    #join all lyrics into a single string\n",
    "                    full_lyrics = ''.join(current_song_lyrics)\n",
    "                    #remove punctuation, keep newlines\n",
    "                    cleaned_lyrics = full_lyrics.translate(str.maketrans('', '', string.punctuation))\n",
    "                    #split the lyric string into tokens\n",
    "                    tokens = cleaned_lyrics.split()\n",
    "                    #add the first and last 100 words as seperate entries to double data set size while maintaining computable sequence length\n",
    "                    #filter out songs less than 10 tokens\n",
    "                    if len(tokens) >= 10:\n",
    "                        if len(tokens) >= 100:\n",
    "                            first_100 = ' '.join(tokens[:100])\n",
    "                            last_100 = ' '.join(tokens[-100:])\n",
    "                            all_songs.append(first_100)\n",
    "                            all_genres.append(genre)\n",
    "                            all_songs.append(last_100)\n",
    "                            all_genres.append(genre)\n",
    "                        else:\n",
    "                            all_songs.append(' '.join(tokens))\n",
    "                            all_genres.append(genre)\n",
    "\n",
    "                    current_song_lyrics = []  # reset for next song\n",
    "            else:\n",
    "                #continue collecting lyric lines for curr song (error handling)\n",
    "                current_song_lyrics.append(line)\n",
    "\n",
    "        # Process last song in file (error handling)\n",
    "        if current_song_lyrics:\n",
    "            full_lyrics = ''.join(current_song_lyrics)\n",
    "            cleaned_lyrics = full_lyrics.translate(str.maketrans('', '', string.punctuation))\n",
    "            tokens = cleaned_lyrics.split()\n",
    "            if len(tokens) >= 10:\n",
    "                if len(tokens) >= 100:\n",
    "                    first_100 = ' '.join(tokens[:100])\n",
    "                    last_100 = ' '.join(tokens[-100:])\n",
    "                    all_songs.append(first_100)\n",
    "                    all_genres.append(genre)\n",
    "                    all_songs.append(last_100)\n",
    "                    all_genres.append(genre)\n",
    "                else:\n",
    "                    all_songs.append(' '.join(tokens))\n",
    "                    all_genres.append(genre) "
   ]
  },
  {
   "cell_type": "code",
   "execution_count": 5,
   "metadata": {},
   "outputs": [
    {
     "name": "stdout",
     "output_type": "stream",
     "text": [
      "\n",
      "--- Sanity Check ---\n",
      "Total songs: 9582\n",
      "Total genres: 5 → {'rb', 'country', 'hiphop', 'pop', 'rock'}\n",
      "\n",
      "Sample data:\n",
      "\n",
      "Genre: country\n",
      "Lyrics: We said Naw never again And we said wed be better as friends But come over and dont overthink it Tonight youre lucky Im drinkin Pick up a couple of lotto tickets throw a penny in a well Youre the luckiest man in Tennessee if you cant tell Cause me my phone and the neons buzzin Three four in and Im missin your lovin We said Naw never again Never again And we said wed be better as friends But come over and dont overthink it Tonight youre lucky Im drinkin Boy youre gettin lucky Tonight youre lucky Im drinkin\n",
      "\n",
      "Genre: rock\n",
      "Lyrics: Ooh this old heart of mine been broke a thousand times Each time you break away I fear youve gone to stay Lonely nights that come memories that flow Bringing you back again hurting me more and more Maybe its my mistake to show this love I feel inside Cause each day that passes by You got me never knowing if Im coming or going But I I love you This old heart darling is weak for you I love you yes I do Yes I do yes I do These old arms of mine miss having you around Makes\n",
      "\n",
      "Genre: rb\n",
      "Lyrics: Last I saw you were down on your knees Praying for some release Check my bed but you aint next to me And Im wondering where you ease Last until anyone lets you know But I dont understand this game Bit my lip but I said I would find Something I didnt know I had Almost winning and now I dont know But it seems like its almost away from me Maybe one day Ill be strong enough To find it out and Ill know it all And the spring is running far You got me thinking Oh I want\n"
     ]
    }
   ],
   "source": [
    "# chat gpt generated sanity check\n",
    "print(\"\\n--- Sanity Check ---\")\n",
    "\n",
    "# Check list lengths match\n",
    "assert len(all_songs) == len(all_genres), \"Mismatch between number of songs and genres!\"\n",
    "\n",
    "# Check non-empty songs and genres\n",
    "for i, (song, genre) in enumerate(zip(all_songs, all_genres)):\n",
    "    assert isinstance(song, str), f\"Song at index {i} is not a string\"\n",
    "    assert isinstance(genre, str), f\"Genre at index {i} is not a string\"\n",
    "    assert len(song.strip()) >= 10, f\"Song at index {i} is too short: '{song}'\"\n",
    "\n",
    "# Check genre diversity\n",
    "unique_genres = set(all_genres)\n",
    "print(f\"Total songs: {len(all_songs)}\")\n",
    "print(f\"Total genres: {len(unique_genres)} → {unique_genres}\")\n",
    "\n",
    "# Show sample entries\n",
    "print(\"\\nSample data:\")\n",
    "print(f\"\\nGenre: {all_genres[705]}\\nLyrics: {all_songs[705]}\")\n",
    "print(f\"\\nGenre: {all_genres[9000]}\\nLyrics: {all_songs[9000]}\")\n",
    "print(f\"\\nGenre: {all_genres[4052]}\\nLyrics: {all_songs[4052]}\")\n"
   ]
  },
  {
   "cell_type": "markdown",
   "metadata": {},
   "source": [
    "After gathering the data and doing a sanity check, we will tokenize the lyrics and genres and "
   ]
  },
  {
   "cell_type": "code",
   "execution_count": 7,
   "metadata": {},
   "outputs": [
    {
     "name": "stdout",
     "output_type": "stream",
     "text": [
      "Missed 2721 out of 964450 words -- 0.28%\n"
     ]
    }
   ],
   "source": [
    "# Build tokenizer\n",
    "tokenizer = LyricsTokenizer(min_freq=1, max_length=100)#max length is 100 tokens for computing efficiency\n",
    "tokenizer.build_vocab(all_songs)\n",
    "tokenized_lyrics = tokenizer.tokenize(all_songs)\n",
    "\n",
    "# Genre -> index mapping\n",
    "genre2idx = {genre: idx for idx, genre in enumerate(sorted(set(all_genres)))}\n",
    "\n",
    "# Dataset + Dataloader\n",
    "dataset = LyricsGenreDataset(tokenized_lyrics, all_genres, genre2idx)"
   ]
  },
  {
   "cell_type": "code",
   "execution_count": 9,
   "metadata": {},
   "outputs": [
    {
     "name": "stdout",
     "output_type": "stream",
     "text": [
      "9582\n",
      "3745\n",
      "3078\n",
      "878\n",
      "1135\n",
      "746\n"
     ]
    }
   ],
   "source": [
    "print(len(all_songs))\n",
    "print(all_genres.count(\"rock\"))\n",
    "print(all_genres.count(\"rb\"))\n",
    "print(all_genres.count(\"hiphop\"))\n",
    "print(all_genres.count(\"pop\"))\n",
    "print(all_genres.count(\"country\"))"
   ]
  },
  {
   "cell_type": "code",
   "execution_count": 11,
   "metadata": {
    "scrolled": true
   },
   "outputs": [
    {
     "name": "stdout",
     "output_type": "stream",
     "text": [
      "Epoch 1/10\n"
     ]
    },
    {
     "name": "stderr",
     "output_type": "stream",
     "text": [
      "                                                                                                                       \r"
     ]
    },
    {
     "name": "stdout",
     "output_type": "stream",
     "text": [
      "Epoch 1, Loss: 6.7506\n",
      "Epoch 2/10\n"
     ]
    },
    {
     "name": "stderr",
     "output_type": "stream",
     "text": [
      "                                                                                                                       \r"
     ]
    },
    {
     "name": "stdout",
     "output_type": "stream",
     "text": [
      "Epoch 2, Loss: 6.3061\n",
      "Epoch 3/10\n"
     ]
    },
    {
     "name": "stderr",
     "output_type": "stream",
     "text": [
      "                                                                                                                       \r"
     ]
    },
    {
     "name": "stdout",
     "output_type": "stream",
     "text": [
      "Epoch 3, Loss: 6.0607\n",
      "Epoch 4/10\n"
     ]
    },
    {
     "name": "stderr",
     "output_type": "stream",
     "text": [
      "                                                                                                                       \r"
     ]
    },
    {
     "name": "stdout",
     "output_type": "stream",
     "text": [
      "Epoch 4, Loss: 5.9164\n",
      "Epoch 5/10\n"
     ]
    },
    {
     "name": "stderr",
     "output_type": "stream",
     "text": [
      "                                                                                                                       \r"
     ]
    },
    {
     "name": "stdout",
     "output_type": "stream",
     "text": [
      "Epoch 5, Loss: 5.8075\n",
      "Epoch 6/10\n"
     ]
    },
    {
     "name": "stderr",
     "output_type": "stream",
     "text": [
      "                                                                                                                       \r"
     ]
    },
    {
     "name": "stdout",
     "output_type": "stream",
     "text": [
      "Epoch 6, Loss: 5.7096\n",
      "Epoch 7/10\n"
     ]
    },
    {
     "name": "stderr",
     "output_type": "stream",
     "text": [
      "                                                                                                                       \r"
     ]
    },
    {
     "name": "stdout",
     "output_type": "stream",
     "text": [
      "Epoch 7, Loss: 5.6265\n",
      "Epoch 8/10\n"
     ]
    },
    {
     "name": "stderr",
     "output_type": "stream",
     "text": [
      "                                                                                                                       \r"
     ]
    },
    {
     "name": "stdout",
     "output_type": "stream",
     "text": [
      "Epoch 8, Loss: 5.5385\n",
      "Epoch 9/10\n"
     ]
    },
    {
     "name": "stderr",
     "output_type": "stream",
     "text": [
      "                                                                                                                       \r"
     ]
    },
    {
     "name": "stdout",
     "output_type": "stream",
     "text": [
      "Epoch 9, Loss: 5.4669\n",
      "Epoch 10/10\n"
     ]
    },
    {
     "name": "stderr",
     "output_type": "stream",
     "text": [
      "                                                                                                                       "
     ]
    },
    {
     "name": "stdout",
     "output_type": "stream",
     "text": [
      "Epoch 10, Loss: 5.3898\n"
     ]
    },
    {
     "name": "stderr",
     "output_type": "stream",
     "text": [
      "\r"
     ]
    }
   ],
   "source": [
    "train_loader = DataLoader( #wrap the data set to only pass in what should be\n",
    "    dataset,\n",
    "    batch_size=16, #default choice lowk\n",
    "    shuffle=True, #shuffle data before each epoch\n",
    "    collate_fn=collate_fn\n",
    ")\n",
    "\n",
    "#device set up to avoid errors, not my area of expertise but seems necessary\n",
    "device = torch.device(\"cuda\" if torch.cuda.is_available() else \"cpu\")\n",
    "#gets unique words and special tokens\n",
    "vocab_size = tokenizer.vocab_size()\n",
    "#gets number of unique genres - i think theres like 28 yikes\n",
    "num_genres = len(genre2idx)\n",
    "\n",
    "model = LSTMLyrics_by_Genre(\n",
    "    vocab_size=vocab_size,\n",
    "    embed_dim=256,\n",
    "    hidden_size=256,\n",
    "    genre_embed_size=32,\n",
    "    num_layers=2,\n",
    "    bidirectional=False,\n",
    "    teacher_forcing_ratio=0.5,\n",
    "    num_genres=num_genres\n",
    ").to(device)\n",
    "best_loss = float('inf')\n",
    "# Train using adam as the optimizer and a std loss function\n",
    "optimizer = torch.optim.Adam(model.parameters(), lr=1e-3)\n",
    "criterion = nn.CrossEntropyLoss()\n",
    "train_losses = [] #for future plotting\n",
    "num_epochs = 10 #10 full passes through the data set\n",
    "\n",
    "for epoch in range(num_epochs): #some sanity during training\n",
    "    print(f\"Epoch {epoch+1}/{num_epochs}\")\n",
    "    train_loss = train_model(model, train_loader, optimizer, criterion, device)\n",
    "    train_losses.append(train_loss) #for plotting\n",
    "    \n",
    "    print(f\"Epoch {epoch+1}, Loss: {train_loss:.4f}\")\n",
    "    #save the best model\n",
    "    if(train_loss < best_loss):\n",
    "        best_loss = train_loss\n",
    "        torch.save(model.state_dict(), \"LSTM_final.pth\")"
   ]
  },
  {
   "cell_type": "code",
   "execution_count": 13,
   "metadata": {},
   "outputs": [
    {
     "data": {
      "image/png": "[encoded data removed]",
      "text/plain": [
       "<Figure size 640x480 with 1 Axes>"
      ]
     },
     "metadata": {},
     "output_type": "display_data"
    }
   ],
   "source": [
    "import matplotlib.pyplot as plt\n",
    "\n",
    "plt.plot(range(1, num_epochs + 1), train_losses, marker='o')\n",
    "plt.title(\"Training Loss per Epoch\")\n",
    "plt.xlabel(\"Epoch\")\n",
    "plt.ylabel(\"Loss\")\n",
    "plt.grid(True)\n",
    "plt.show()"
   ]
  },
  {
   "cell_type": "code",
   "execution_count": null,
   "metadata": {},
   "outputs": [],
   "source": []
  }
 ],
 "metadata": {
  "kernelspec": {
   "display_name": "Python 3 (ipykernel)",
   "language": "python",
   "name": "python3"
  },
  "language_info": {
   "codemirror_mode": {
    "name": "ipython",
    "version": 3
   },
   "file_extension": ".py",
   "mimetype": "text/x-python",
   "name": "python",
   "nbconvert_exporter": "python",
   "pygments_lexer": "ipython3",
   "version": "3.10.8"
  }
 },
 "nbformat": 4,
 "nbformat_minor": 4
}
