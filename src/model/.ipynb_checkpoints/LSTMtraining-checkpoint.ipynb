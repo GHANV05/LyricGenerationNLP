{
 "cells": [
  {
   "cell_type": "code",
   "execution_count": 1,
   "metadata": {},
   "outputs": [],
   "source": [
    "# Import the model code and all the libraries bcs they are so annoying otherwise\n",
    "from LSTM import LyricsTokenizer, LyricsGenreDataset, LSTMLyrics_by_Genre, collate_fn, generate_lyrics, train_model\n",
    "import torch\n",
    "import torch.nn as nn\n",
    "import torch.nn.functional as F\n",
    "import random\n",
    "import nltk\n",
    "from nltk.tokenize import word_tokenize\n",
    "from collections import Counter\n",
    "from torch.utils.data import Dataset\n",
    "from torch.utils.data import DataLoader\n",
    "from tqdm import trange\n",
    "import string"
   ]
  },
  {
   "cell_type": "code",
   "execution_count": 2,
   "metadata": {},
   "outputs": [
    {
     "name": "stdout",
     "output_type": "stream",
     "text": [
      "Missed 6119 out of 985307 words -- 0.62%\n"
     ]
    }
   ],
   "source": [
    "import re\n",
    "import os\n",
    "\n",
    "id_pattern = re.compile(r'^[a-zA-Z0-9]{22},')\n",
    "\n",
    "current_song_lyrics = []\n",
    "first_id = False\n",
    "first_line = True\n",
    "\n",
    "all_songs = []\n",
    "all_genres = []\n",
    "\n",
    "folder_path = 'C:/Users/Chloe/Documents/Spring 2025/CSCI3832_FinalProject-main/LSTM_data'\n",
    "\n",
    "for filename in os.listdir(folder_path):\n",
    "    file_path = os.path.join(folder_path, filename)\n",
    "    genre = re.sub(r'\\d+', '', os.path.splitext(filename)[0])\n",
    "    with open(file_path, 'r', encoding='utf-8') as file:\n",
    "        for line in file:\n",
    "            if first_line == True:\n",
    "                first_line = False\n",
    "                continue\n",
    "            else:\n",
    "                if id_pattern.match(line):\n",
    "                    if first_id == False:\n",
    "                        first_id = True\n",
    "                    else:\n",
    "                        lyrics_in_song = ''.join(current_song_lyrics).strip()\n",
    "                        if len(lyrics_in_song) >= 10:\n",
    "                            all_songs.append(lyrics_in_song)\n",
    "                            all_genres.append(genre) \n",
    "                        current_song_lyrics = []\n",
    "                else:\n",
    "                    current_song_lyrics.append(line)  \n",
    "\n",
    "        if current_song_lyrics:\n",
    "            lyrics_in_song = ''.join(current_song_lyrics).strip()\n",
    "            if len(lyrics_in_song) >= 10:\n",
    "                all_songs.append(lyrics_in_song)   \n",
    "                all_genres.append(genre)  \n",
    "#remove punctuation\n",
    "all_songs = [song.translate(str.maketrans('', '', string.punctuation)) for song in all_songs]\n",
    "# #regular expression from geeks for geeks for removing non-eng char: https://www.geeksforgeeks.org/python-remove-non-english-characters-strings-from-list/\n",
    "# all_songs = list(filter(lambda ele: re.search(\"[a-zA-Z]+\", ele) is not None, all_songs))\n",
    "# Build tokenizer\n",
    "tokenizer = LyricsTokenizer(min_freq=1, max_length=100)#max length is 100 tokens for computing efficiency\n",
    "tokenizer.build_vocab(all_songs)\n",
    "tokenized_lyrics = tokenizer.tokenize(all_songs)\n",
    "\n",
    "# Genre -> index mapping\n",
    "genre2idx = {genre: idx for idx, genre in enumerate(sorted(set(all_genres)))}\n",
    "\n",
    "# Dataset + Dataloader\n",
    "dataset = LyricsGenreDataset(tokenized_lyrics, all_genres, genre2idx)"
   ]
  },
  {
   "cell_type": "code",
   "execution_count": 3,
   "metadata": {
    "scrolled": true
   },
   "outputs": [
    {
     "name": "stdout",
     "output_type": "stream",
     "text": [
      "Epoch 1/10\n"
     ]
    },
    {
     "name": "stderr",
     "output_type": "stream",
     "text": [
      "                                                                                                                       \r"
     ]
    },
    {
     "name": "stdout",
     "output_type": "stream",
     "text": [
      "Epoch 1, Loss: 6.7780\n",
      "Epoch 2/10\n"
     ]
    },
    {
     "name": "stderr",
     "output_type": "stream",
     "text": [
      "                                                                                                                       \r"
     ]
    },
    {
     "name": "stdout",
     "output_type": "stream",
     "text": [
      "Epoch 2, Loss: 6.2911\n",
      "Epoch 3/10\n"
     ]
    },
    {
     "name": "stderr",
     "output_type": "stream",
     "text": [
      "                                                                                                                       \r"
     ]
    },
    {
     "name": "stdout",
     "output_type": "stream",
     "text": [
      "Epoch 3, Loss: 6.0696\n",
      "Epoch 4/10\n"
     ]
    },
    {
     "name": "stderr",
     "output_type": "stream",
     "text": [
      "                                                                                                                       \r"
     ]
    },
    {
     "name": "stdout",
     "output_type": "stream",
     "text": [
      "Epoch 4, Loss: 5.9167\n",
      "Epoch 5/10\n"
     ]
    },
    {
     "name": "stderr",
     "output_type": "stream",
     "text": [
      "                                                                                                                       \r"
     ]
    },
    {
     "name": "stdout",
     "output_type": "stream",
     "text": [
      "Epoch 5, Loss: 5.8090\n",
      "Epoch 6/10\n"
     ]
    },
    {
     "name": "stderr",
     "output_type": "stream",
     "text": [
      "                                                                                                                       \r"
     ]
    },
    {
     "name": "stdout",
     "output_type": "stream",
     "text": [
      "Epoch 6, Loss: 5.7187\n",
      "Epoch 7/10\n"
     ]
    },
    {
     "name": "stderr",
     "output_type": "stream",
     "text": [
      "                                                                                                                       \r"
     ]
    },
    {
     "name": "stdout",
     "output_type": "stream",
     "text": [
      "Epoch 7, Loss: 5.6247\n",
      "Epoch 8/10\n"
     ]
    },
    {
     "name": "stderr",
     "output_type": "stream",
     "text": [
      "                                                                                                                       \r"
     ]
    },
    {
     "name": "stdout",
     "output_type": "stream",
     "text": [
      "Epoch 8, Loss: 5.5589\n",
      "Epoch 9/10\n"
     ]
    },
    {
     "name": "stderr",
     "output_type": "stream",
     "text": [
      "                                                                                                                       \r"
     ]
    },
    {
     "name": "stdout",
     "output_type": "stream",
     "text": [
      "Epoch 9, Loss: 5.4770\n",
      "Epoch 10/10\n"
     ]
    },
    {
     "name": "stderr",
     "output_type": "stream",
     "text": [
      "                                                                                                                       "
     ]
    },
    {
     "name": "stdout",
     "output_type": "stream",
     "text": [
      "Epoch 10, Loss: 5.4021\n"
     ]
    },
    {
     "name": "stderr",
     "output_type": "stream",
     "text": [
      "\r"
     ]
    }
   ],
   "source": [
    "train_loader = DataLoader( #wrap the data set to only pass in what should be\n",
    "    dataset,\n",
    "    batch_size=16, #default choice lowk\n",
    "    shuffle=True, #shuffle data before each epoch\n",
    "    collate_fn=collate_fn\n",
    ")\n",
    "\n",
    "#device set up to avoid errors, not my area of expertise but seems necessary\n",
    "device = torch.device(\"cuda\" if torch.cuda.is_available() else \"cpu\")\n",
    "#gets unique words and special tokens\n",
    "vocab_size = tokenizer.vocab_size()\n",
    "#gets number of unique genres - i think theres like 28 yikes\n",
    "num_genres = len(genre2idx)\n",
    "\n",
    "model = LSTMLyrics_by_Genre(\n",
    "    vocab_size=vocab_size,\n",
    "    embed_dim=256,\n",
    "    hidden_size=256,\n",
    "    genre_embed_size=32,\n",
    "    num_layers=1,\n",
    "    bidirectional=False,\n",
    "    teacher_forcing_ratio=0.5,\n",
    "    num_genres=num_genres\n",
    ").to(device)\n",
    "best_loss = float('inf')\n",
    "# Train using adam as the optimizer and a std loss function\n",
    "optimizer = torch.optim.Adam(model.parameters(), lr=1e-3)\n",
    "criterion = nn.CrossEntropyLoss()\n",
    "train_losses = [] #for future plotting\n",
    "num_epochs = 10 #10 full passes through the data set\n",
    "\n",
    "for epoch in range(num_epochs): #some sanity during training\n",
    "    print(f\"Epoch {epoch+1}/{num_epochs}\")\n",
    "    train_loss = train_model(model, train_loader, optimizer, criterion, device)\n",
    "    train_losses.append(train_loss) #for plotting\n",
    "    \n",
    "    print(f\"Epoch {epoch+1}, Loss: {train_loss:.4f}\")\n",
    "    #save the best model\n",
    "    if(train_loss < best_loss):\n",
    "        best_loss = train_loss\n",
    "        torch.save(model.state_dict(), \"LSTM_zero_init.pth\")"
   ]
  },
  {
   "cell_type": "code",
   "execution_count": 4,
   "metadata": {
    "scrolled": true
   },
   "outputs": [
    {
     "data": {
      "image/png": "[encoded data removed]",
      "text/plain": [
       "<Figure size 640x480 with 1 Axes>"
      ]
     },
     "metadata": {},
     "output_type": "display_data"
    }
   ],
   "source": [
    "import matplotlib.pyplot as plt\n",
    "\n",
    "plt.plot(range(1, num_epochs + 1), train_losses, marker='o')\n",
    "plt.title(\"Training Loss per Epoch\")\n",
    "plt.xlabel(\"Epoch\")\n",
    "plt.ylabel(\"Loss\")\n",
    "plt.grid(True)\n",
    "plt.show()"
   ]
  },
  {
   "cell_type": "code",
   "execution_count": null,
   "metadata": {},
   "outputs": [],
   "source": []
  }
 ],
 "metadata": {
  "kernelspec": {
   "display_name": "Python [conda env:base] *",
   "language": "python",
   "name": "conda-base-py"
  },
  "language_info": {
   "codemirror_mode": {
    "name": "ipython",
    "version": 3
   },
   "file_extension": ".py",
   "mimetype": "text/x-python",
   "name": "python",
   "nbconvert_exporter": "python",
   "pygments_lexer": "ipython3",
   "version": "3.12.7"
  }
 },
 "nbformat": 4,
 "nbformat_minor": 4
}
